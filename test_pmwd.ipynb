{
 "cells": [
  {
   "cell_type": "code",
   "execution_count": 1,
   "metadata": {},
   "outputs": [],
   "source": [
    "import numpy as np\n",
    "import matplotlib.pyplot as pl\n",
    "%matplotlib inline\n",
    "\n",
    "\n"
   ]
  },
  {
   "cell_type": "markdown",
   "metadata": {},
   "source": [
    "## Load Quijote data to compare against:\n"
   ]
  },
  {
   "cell_type": "code",
   "execution_count": 2,
   "metadata": {},
   "outputs": [
    {
     "name": "stdout",
     "output_type": "stream",
     "text": [
      "[1.60423452 0.61376409 0.        ]\n",
      "\n",
      "Computing power spectrum of the field...\n",
      "Time to complete loop = 0.54\n",
      "Time taken = 0.80 seconds\n",
      "\n",
      "Computing power spectrum of the field...\n",
      "Time to complete loop = 0.54\n",
      "Time taken = 0.80 seconds\n",
      "\n",
      "Computing power spectrum of the field...\n",
      "Time to complete loop = 0.54\n",
      "Time taken = 0.80 seconds\n"
     ]
    }
   ],
   "source": [
    "scale_fac_all = np.loadtxt('/projects/bdne/spandey3/temp/camels_snap_scalefac.txt')\n",
    "snap_num_test = [50,70,90]\n",
    "scale_fac_test = scale_fac_all[snap_num_test]\n",
    "z_test = 1/scale_fac_test - 1\n",
    "print(z_test)\n",
    "import numpy as np\n",
    "import readgadget\n",
    "import dill\n",
    "save_Pmm_Quijote = {}\n",
    "delta_mm_Quijote = {}\n",
    "MAS = 'CIC'\n",
    "BoxSize = 1000.\n",
    "try:\n",
    "    saved_all = dill.load(open('/projects/bdne/spandey3/temp/save_delta_quijote.pk','rb'))['delta']\n",
    "    loaded_file = True\n",
    "except:\n",
    "    loaded_file = False\n",
    "\n",
    "for ji, snapnum in enumerate(snap_num_test):\n",
    "    # if loaded_file:\n",
    "    try:\n",
    "        delta = saved_all[f'{scale_fac_test[ji]:.3f}']\n",
    "    except:\n",
    "        print(snapnum, f'{scale_fac_test[ji]:.3f}')\n",
    "        try:\n",
    "            snapshot = f'/projects/bdne/spandey3/temp/snapdir_0{snapnum}/snap_0{snapnum}'\n",
    "            header   = readgadget.header(snapshot)\n",
    "        except:\n",
    "            snapshot = f'/scratch/bdne/spandey3/fiducial_HR/snapdir_0{snapnum}/snap_0{snapnum}'\n",
    "        ptype    = [1] #[1](CDM), [2](neutrinos) or [1,2](CDM+neutrinos)\n",
    "\n",
    "        # read header\n",
    "        header   = readgadget.header(snapshot)\n",
    "        BoxSize  = header.boxsize/1e3  #Mpc/h\n",
    "        Nall     = header.nall         #Total number of particles\n",
    "        Masses   = header.massarr*1e10 #Masses of the particles in Msun/h\n",
    "        Omega_m  = header.omega_m      #value of Omega_m\n",
    "        Omega_l  = header.omega_l      #value of Omega_l\n",
    "        h        = header.hubble       #value of h\n",
    "        redshift = header.redshift     #redshift of the snapshot\n",
    "        Hubble   = 100.0*np.sqrt(Omega_m*(1.0+redshift)**3+Omega_l)#Value of H(z) in km/s/(Mpc/h)\n",
    "\n",
    "        # read positions, velocities and IDs of the particles\n",
    "        pos = readgadget.read_block(snapshot, \"POS \", ptype)/1e3 #positions in Mpc/h\n",
    "        delta = np.zeros((Ngrid, Ngrid, Ngrid), dtype=np.float32)\n",
    "        MASL.MA(pos[:].astype(np.float32), delta, BoxSize, MAS)\n",
    "        delta = delta.astype(np.float32)\n",
    "        delta = -1 + delta/np.mean(delta)\n",
    "    import Pk_library as PKL\n",
    "    Pk_mm = PKL.Pk(delta, BoxSize, axis=0, MAS=MAS)\n",
    "    delta_mm_Quijote[f'{scale_fac_test[ji]:.3f}'] = delta\n",
    "    save_Pmm_Quijote[f'{scale_fac_test[ji]:.3f}'] = Pk_mm\n",
    "\n"
   ]
  },
  {
   "cell_type": "markdown",
   "metadata": {},
   "source": [
    "## Configure pmwd. Get transfer function from CAMB. Correctly estimate As and initialize the cosmology for given sigma8. There is also now an additional `a_save` array at which the code will output the particle positions and velocities\n",
    "\n"
   ]
  },
  {
   "cell_type": "code",
   "execution_count": 3,
   "metadata": {},
   "outputs": [
    {
     "name": "stderr",
     "output_type": "stream",
     "text": [
      "2024-10-23 14:04:51.431119: W external/xla/xla/service/gpu/nvptx_compiler.cc:930] The NVIDIA driver's CUDA version is 12.4 which is older than the PTX compiler version 12.6.77. Because the driver is older than the PTX compiler version, XLA is disabling parallel compilation, which may slow down compilation. You should update your NVIDIA driver or use the NVIDIA-provided CUDA forward compatibility packages.\n"
     ]
    }
   ],
   "source": [
    "import jax.numpy as jnp\n",
    "from pmwd import (\n",
    "    Configuration, Cosmology, boltzmann, linear_modes, lpt, nbody)\n",
    "    \n",
    "from pmwd.pm_util import fftinv\n",
    "\n",
    "def get_camb_transfer(cosmo):\n",
    "    import camb\n",
    "    sigma8=cosmo[4]\n",
    "    ns=cosmo[3]\n",
    "    Om=cosmo[0]\n",
    "    Ob=cosmo[1]\n",
    "    h=cosmo[2]\n",
    "    pars = camb.CAMBparams()\n",
    "    pars.set_cosmology(H0=h*100,\n",
    "                    ombh2=Ob * h ** 2,\n",
    "                    omch2=(Om - Ob) * h ** 2,\n",
    "                    mnu=0.0,\n",
    "                    omk=0,\n",
    "                    )\n",
    "    As_fid = 2.13e-9\n",
    "    pars.InitPower.set_params(As=As_fid, ns=ns, r=0)\n",
    "    pars.set_matter_power(redshifts=[0.], kmax=1000)\n",
    "    pars.NonLinear = camb.model.NonLinear_none\n",
    "    results = camb.get_results(pars)\n",
    "    sigma8_camb = results.get_sigma8()[0]\n",
    "    As_new = (sigma8 / sigma8_camb) ** 2 * As_fid\n",
    "    pars.InitPower.set_params(As=As_new, ns=ns, r=0)\n",
    "    results = camb.get_results(pars)\n",
    "    data_transfer = results.get_matter_transfer_data().transfer_data\n",
    "    transfer_kh = data_transfer[0,:,0]\n",
    "    transfer_val = data_transfer[7,:,0]\n",
    "    transfer_val /= transfer_val[0]\n",
    "    return As_new*1e9, transfer_kh, transfer_val\n",
    "\n",
    "\n",
    "def configure_pmwd(\n",
    "    N, L, supersampling, B, ai, af, N_steps, cosmo, a_save,a_snapshots,\n",
    "):\n",
    "    # Configure simulation\n",
    "    N = N*supersampling\n",
    "    ptcl_spacing = L/N\n",
    "    ptcl_grid_shape = (N,)*3\n",
    "    pmconf = Configuration(\n",
    "        ptcl_spacing, ptcl_grid_shape,\n",
    "        a_start=ai, a_stop=af,\n",
    "        a_nbody_num = N_steps,\n",
    "        a_save=a_save,\n",
    "        a_snapshots=a_snapshots,\n",
    "        transfer_fit=False,\n",
    "        # transfer_fit=True,\n",
    "        mesh_shape=B)\n",
    "\n",
    "    A_s_1e9, transfer_kh, transfer_val = get_camb_transfer(cosmo)\n",
    "    pmcosmo = Cosmology(\n",
    "        pmconf, A_s_1e9=A_s_1e9,\n",
    "        n_s=cosmo[3], Omega_m=cosmo[0],\n",
    "        Omega_b=cosmo[1], h=cosmo[2],\n",
    "        transfer_k_inp=jnp.array(transfer_kh),\n",
    "        transfer_val_inp=jnp.array(transfer_val),\n",
    "        )\n",
    "\n",
    "    # Boltzmann\n",
    "    pmcosmo = boltzmann(pmcosmo, pmconf)\n",
    "    return pmconf, pmcosmo\n",
    "\n",
    "\n",
    "def gen_white_noise(N, seed=5):\n",
    "    num_modes_last_d = N // 2 + 1\n",
    "    with open('/projects/bdne/spandey3/temp/wn_5.dat', 'rb') as f:\n",
    "            _ = np.fromfile(f, np.uint32, 1)[0]\n",
    "            modes = np.fromfile(f, np.complex128, -1)\n",
    "            modes = modes.reshape((N, N, num_modes_last_d))    \n",
    "    return modes\n",
    "\n",
    "N = 256\n",
    "supersampling = 1\n",
    "L = 1000.\n",
    "B = 1.69\n",
    "zi = 9.0\n",
    "ai = 1/(1+zi)\n",
    "af = 0.99\n",
    "N_steps = 30\n",
    "cosmo = [0.3175, 0.049, 0.6711, 0.9624, 0.834]\n",
    "wn = gen_white_noise(N*supersampling)\n",
    "\n",
    "pmconf, pmcosmo = configure_pmwd(\n",
    "        N=N, L=L,\n",
    "        supersampling=supersampling,\n",
    "        B=B, ai=ai, af=af,\n",
    "        N_steps=N_steps, cosmo=cosmo,\n",
    "        a_save=jnp.array(scale_fac_test),\n",
    "        a_snapshots=(0,af)\n",
    "        )\n",
    "\n"
   ]
  },
  {
   "cell_type": "markdown",
   "metadata": {},
   "source": [
    "## Run the PM code by first getting ICs (which we have saved already), running 2nd order LPT and then PM steps\n"
   ]
  },
  {
   "cell_type": "code",
   "execution_count": 4,
   "metadata": {},
   "outputs": [],
   "source": [
    "ic = linear_modes(wn, pmcosmo, pmconf)\n",
    "ptcl, obsvbl = lpt(ic, pmcosmo, pmconf)\n",
    "ptcl_all_save, _ = nbody(ptcl, obsvbl, pmcosmo, pmconf)\n",
    "pos_all_save = {}\n",
    "vel_all_save = {}\n",
    "for key in list(ptcl_all_save.keys()):\n",
    "    pos_all_save[key] = np.array(ptcl_all_save[key].pos())\n",
    "    vel = np.array(ptcl_all_save[key].vel)\n",
    "    vel *= 100  # km/s\n",
    "    vel_all_save[key] = vel\n",
    "\n"
   ]
  },
  {
   "cell_type": "markdown",
   "metadata": {},
   "source": [
    "## Estimate and save the auto-power spectra of PM"
   ]
  },
  {
   "cell_type": "code",
   "execution_count": 5,
   "metadata": {},
   "outputs": [
    {
     "name": "stdout",
     "output_type": "stream",
     "text": [
      "\n",
      "Computing power spectrum of the field...\n",
      "Time to complete loop = 0.54\n",
      "Time taken = 0.83 seconds\n",
      "\n",
      "Computing power spectrum of the field...\n",
      "Time to complete loop = 0.54\n",
      "Time taken = 0.82 seconds\n",
      "\n",
      "Computing power spectrum of the field...\n",
      "Time to complete loop = 0.54\n",
      "Time taken = 0.82 seconds\n"
     ]
    }
   ],
   "source": [
    "save_Pmm = {}\n",
    "delta_mm = {}\n",
    "for key in list(pos_all_save.keys()):\n",
    "    import MAS_library as MASL\n",
    "    Ngrid = N\n",
    "    BoxSize = L\n",
    "    MAS = 'CIC'\n",
    "    delta = np.zeros((Ngrid, Ngrid, Ngrid), dtype=np.float32)\n",
    "    pos = pos_all_save[key]\n",
    "    MASL.MA(pos[:].astype(np.float32), delta, BoxSize, MAS)\n",
    "    delta = delta.astype(np.float32)\n",
    "    delta = -1 + delta/np.mean(delta)\n",
    "\n",
    "    import Pk_library as PKL\n",
    "    Pk_mm = PKL.Pk(delta, BoxSize, axis=0, MAS=MAS)\n",
    "    delta_mm[key] = delta\n",
    "    save_Pmm[key] = Pk_mm\n",
    "\n",
    "    "
   ]
  },
  {
   "cell_type": "markdown",
   "metadata": {},
   "source": [
    "## Get the cross-power spectra between Quijote and PM"
   ]
  },
  {
   "cell_type": "code",
   "execution_count": 6,
   "metadata": {},
   "outputs": [
    {
     "name": "stdout",
     "output_type": "stream",
     "text": [
      "\n",
      "Computing power spectra of the fields...\n",
      "Time FFTS = 0.55\n",
      "Time loop = 0.36\n",
      "Time taken = 0.92 seconds\n",
      "\n",
      "Computing power spectra of the fields...\n",
      "Time FFTS = 0.55\n",
      "Time loop = 0.36\n",
      "Time taken = 0.92 seconds\n",
      "\n",
      "Computing power spectra of the fields...\n",
      "Time FFTS = 0.56\n",
      "Time loop = 0.36\n",
      "Time taken = 0.92 seconds\n"
     ]
    }
   ],
   "source": [
    "save_XPmm = {}\n",
    "for af in scale_fac_test:\n",
    "    delta1 = delta_mm[f'{af:.3f}']\n",
    "    delta2 = delta_mm_Quijote[f'{af:.3f}']\n",
    "    Pk = PKL.XPk([delta1,delta2], BoxSize, axis=0, MAS=['CIC','CIC'], threads=1)\n",
    "    save_XPmm[f'{af:.3f}'] = Pk\n",
    "\n"
   ]
  },
  {
   "cell_type": "markdown",
   "metadata": {},
   "source": [
    "## Plot the cross-power spectra"
   ]
  },
  {
   "cell_type": "code",
   "execution_count": 9,
   "metadata": {},
   "outputs": [
    {
     "data": {
      "image/png": "[encoded data removed]",
      "text/plain": [
       "<Figure size 640x480 with 1 Axes>"
      ]
     },
     "metadata": {},
     "output_type": "display_data"
    }
   ],
   "source": [
    "pl.figure()\n",
    "colors_all = ['r', 'orange', 'blue', 'tomato', 'k']\n",
    "for ji, af in enumerate(scale_fac_test):\n",
    "    z = 1/af - 1\n",
    "    pl.plot(save_XPmm[f'{af:.3f}'].k3D, save_XPmm[f'{af:.3f}'].XPk[:,0,0]/np.sqrt(save_XPmm[f'{af:.3f}'].Pk[:,0,0]*save_XPmm[f'{af:.3f}'].Pk[:,0,1]), ls='-', marker='', color=colors_all[ji], label='z=' + str(np.round(float(z),2)))\n",
    "pl.xscale('log')\n",
    "pl.xlim(7e-3, 0.4)\n",
    "pl.axhline(1.0,ls='--', color='k')\n",
    "pl.ylim(0.975, 1.005)\n",
    "pl.xlabel(r'$k$', fontsize=16)\n",
    "pl.ylabel(r'Cross-correlation coeff', fontsize=16)\n",
    "pl.legend(fontsize=15)\n",
    "pl.show()\n",
    "\n"
   ]
  },
  {
   "cell_type": "markdown",
   "metadata": {},
   "source": [
    "## Plot the transfer function:"
   ]
  },
  {
   "cell_type": "code",
   "execution_count": 8,
   "metadata": {},
   "outputs": [
    {
     "data": {
      "image/png": "[encoded data removed]",
      "text/plain": [
       "<Figure size 640x480 with 1 Axes>"
      ]
     },
     "metadata": {},
     "output_type": "display_data"
    }
   ],
   "source": [
    "pl.figure()\n",
    "colors_all = ['r', 'orange', 'blue', 'tomato', 'k']\n",
    "for ji, af in enumerate(scale_fac_test):\n",
    "    z = 1/af - 1\n",
    "    pl.plot(save_XPmm[f'{af:.3f}'].k3D, save_XPmm[f'{af:.3f}'].Pk[:,0,0]/save_XPmm[f'{af:.3f}'].Pk[:,0,1], ls='-', marker='', color=colors_all[ji], label='z=' + str(np.round(z,2)))\n",
    "\n",
    "pl.xscale('log')\n",
    "# pl.yscale('log')\n",
    "pl.xlim(7e-3, 0.4)\n",
    "pl.ylim(0.95, 1.05)\n",
    "pl.axhline(1.0,ls='--', color='k')\n",
    "pl.xlabel(r'$k$', fontsize=16)\n",
    "pl.ylabel(r'Transfer function', fontsize=16)\n",
    "pl.legend(fontsize=15)\n",
    "pl.show()\n",
    "\n"
   ]
  },
  {
   "cell_type": "code",
   "execution_count": null,
   "metadata": {},
   "outputs": [],
   "source": []
  }
 ],
 "metadata": {
  "kernelspec": {
   "display_name": "Python 3",
   "language": "python",
   "name": "python3"
  },
  "language_info": {
   "codemirror_mode": {
    "name": "ipython",
    "version": 3
   },
   "file_extension": ".py",
   "mimetype": "text/x-python",
   "name": "python",
   "nbconvert_exporter": "python",
   "pygments_lexer": "ipython3",
   "version": "3.10.15"
  }
 },
 "nbformat": 4,
 "nbformat_minor": 2
}
